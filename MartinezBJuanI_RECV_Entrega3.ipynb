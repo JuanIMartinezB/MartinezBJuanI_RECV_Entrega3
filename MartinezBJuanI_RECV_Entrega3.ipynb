{
  "nbformat": 4,
  "nbformat_minor": 0,
  "metadata": {
    "colab": {
      "name": "Untitled4.ipynb",
      "provenance": []
    },
    "kernelspec": {
      "name": "python3",
      "display_name": "Python 3"
    },
    "language_info": {
      "name": "python"
    }
  },
  "cells": [
    {
      "cell_type": "code",
      "metadata": {
        "colab": {
          "base_uri": "https://localhost:8080/",
          "height": 204
        },
        "id": "NBWsHzrr9O5U",
        "outputId": "6c6ed387-b3ac-406f-ce47-c27ce5b4c312"
      },
      "source": [
        "import pandas as pd\n",
        "\n",
        "import pandas as pd\n",
        "# reading csv files\n",
        "data =  pd.read_csv('iris.data', sep=\",\", names=['sepal_length' , 'sepal_width', 'petal_length', 'petal_width','class'])\n",
        "data.head()\n",
        "\n",
        "\n"
      ],
      "execution_count": 63,
      "outputs": [
        {
          "output_type": "execute_result",
          "data": {
            "text/html": [
              "<div>\n",
              "<style scoped>\n",
              "    .dataframe tbody tr th:only-of-type {\n",
              "        vertical-align: middle;\n",
              "    }\n",
              "\n",
              "    .dataframe tbody tr th {\n",
              "        vertical-align: top;\n",
              "    }\n",
              "\n",
              "    .dataframe thead th {\n",
              "        text-align: right;\n",
              "    }\n",
              "</style>\n",
              "<table border=\"1\" class=\"dataframe\">\n",
              "  <thead>\n",
              "    <tr style=\"text-align: right;\">\n",
              "      <th></th>\n",
              "      <th>sepal_length</th>\n",
              "      <th>sepal_width</th>\n",
              "      <th>petal_length</th>\n",
              "      <th>petal_width</th>\n",
              "      <th>class</th>\n",
              "    </tr>\n",
              "  </thead>\n",
              "  <tbody>\n",
              "    <tr>\n",
              "      <th>0</th>\n",
              "      <td>5.1</td>\n",
              "      <td>3.5</td>\n",
              "      <td>1.4</td>\n",
              "      <td>0.2</td>\n",
              "      <td>Iris-setosa</td>\n",
              "    </tr>\n",
              "    <tr>\n",
              "      <th>1</th>\n",
              "      <td>4.9</td>\n",
              "      <td>3.0</td>\n",
              "      <td>1.4</td>\n",
              "      <td>0.2</td>\n",
              "      <td>Iris-setosa</td>\n",
              "    </tr>\n",
              "    <tr>\n",
              "      <th>2</th>\n",
              "      <td>4.7</td>\n",
              "      <td>3.2</td>\n",
              "      <td>1.3</td>\n",
              "      <td>0.2</td>\n",
              "      <td>Iris-setosa</td>\n",
              "    </tr>\n",
              "    <tr>\n",
              "      <th>3</th>\n",
              "      <td>4.6</td>\n",
              "      <td>3.1</td>\n",
              "      <td>1.5</td>\n",
              "      <td>0.2</td>\n",
              "      <td>Iris-setosa</td>\n",
              "    </tr>\n",
              "    <tr>\n",
              "      <th>4</th>\n",
              "      <td>5.0</td>\n",
              "      <td>3.6</td>\n",
              "      <td>1.4</td>\n",
              "      <td>0.2</td>\n",
              "      <td>Iris-setosa</td>\n",
              "    </tr>\n",
              "  </tbody>\n",
              "</table>\n",
              "</div>"
            ],
            "text/plain": [
              "   sepal_length  sepal_width  petal_length  petal_width        class\n",
              "0           5.1          3.5           1.4          0.2  Iris-setosa\n",
              "1           4.9          3.0           1.4          0.2  Iris-setosa\n",
              "2           4.7          3.2           1.3          0.2  Iris-setosa\n",
              "3           4.6          3.1           1.5          0.2  Iris-setosa\n",
              "4           5.0          3.6           1.4          0.2  Iris-setosa"
            ]
          },
          "metadata": {
            "tags": []
          },
          "execution_count": 63
        }
      ]
    },
    {
      "cell_type": "code",
      "metadata": {
        "colab": {
          "base_uri": "https://localhost:8080/",
          "height": 265
        },
        "id": "JqkpYSqkACif",
        "outputId": "420a8b70-08b6-4e98-e0e6-72cc5dc5388a"
      },
      "source": [
        "\n",
        "import matplotlib.pyplot as plt\n",
        "\n",
        "s_l = data['sepal_length']\n",
        "s_w = data['sepal_width']\n",
        "p_l = data['petal_length']\n",
        "p_w = data['petal_width']\n",
        "Y = data['class']\n",
        "\n",
        "Iris_Setosa = Y == 'Iris-setosa' #  máscara\n",
        "Otra_clase = Y != 'Iris-setosa' # máscara\n",
        "\n",
        "#-- Graficamos los puntos con sus correspondientes clases\n",
        "fig = plt.figure(figsize=(4,4))\n",
        "plt.plot(s_l[Iris_Setosa],p_l[Iris_Setosa],'o', c='black', label='Iris Setosa')\n",
        "plt.plot(s_l[Otra_clase],p_l[Otra_clase],'o', c='red', label='Otra Clase')\n",
        "plt.xlim(np.min(s_l),np.max(s_l))\n",
        "plt.ylim(np.min(p_l),np.max(p_l))\n",
        "plt.legend()\n",
        "plt.show()"
      ],
      "execution_count": 65,
      "outputs": [
        {
          "output_type": "display_data",
          "data": {
            "image/png": "[encoded data removed]",
            "text/plain": [
              "<Figure size 288x288 with 1 Axes>"
            ]
          },
          "metadata": {
            "tags": [],
            "needs_background": "light"
          }
        }
      ]
    },
    {
      "cell_type": "code",
      "metadata": {
        "id": "sGvaonWUI7Ec"
      },
      "source": [
        "#-- Definimos nuestra función de activación, en este caso usamos un Sigmoide\n",
        "def act(z):\n",
        "  return 1/(1 + np.exp(-z))"
      ],
      "execution_count": 66,
      "outputs": []
    },
    {
      "cell_type": "code",
      "metadata": {
        "colab": {
          "base_uri": "https://localhost:8080/",
          "height": 520
        },
        "id": "x_sMHEPJI_39",
        "outputId": "8ae6191b-efed-4fb4-96ab-0d1eefb3de7d"
      },
      "source": [
        "#-- Definimos el Perceptron\n",
        "\n",
        "# Inicializamos los pesos en 0\n",
        "b = 0\n",
        "w_1 = 0\n",
        "w_2 = 0\n",
        "\n",
        "# Inicializamos el número de épocas y la rata de aprendizaje\n",
        "n_epochs = 15 # Número de épocas\n",
        "n = 0.5      # Tasa de aprendizaje\n",
        "\n",
        "# Esta es la función nuestro perceptron encontrará al final de todas las épocas\n",
        "def y(x):\n",
        " return -(b + w_1*x)/w_2\n",
        "\n",
        "\n",
        "# Entrenamos el Perceptron\n",
        "for epoch in range(n_epochs):\n",
        "  for i,j,k in zip(s_l,p_l,Y):\n",
        "    \n",
        "    # Función de Suma\n",
        "    z = i*w_1 + j*w_2 + b\n",
        "\n",
        "    # Función de Activación\n",
        "    sig_z = act(z)\n",
        "\n",
        "    # Evaluamos la salida (output)\n",
        "    if sig_z >= 0.5:\n",
        "      out = 1\n",
        "    if sig_z < 0.5:\n",
        "      out = 0\n",
        "\n",
        "    # volvemos numerico Y\n",
        "    if k == 'Iris-setosa':\n",
        "      k_err = 1\n",
        "      \n",
        "    if k!= 'Iris-setosa':\n",
        "      k_err = 0\n",
        "    \n",
        "    # Calculamos el error\n",
        "    error = k_err - out\n",
        "\n",
        "    # Actualizamos los pesos\n",
        "    b = b + n*error\n",
        "    w_1 += n*error*i\n",
        "    w_2 += n*error*j\n",
        "\n",
        "  print('Epoch [{}/{}], bias: {}, w1: {}, w2: {}'.format(epoch+1,n_epochs,b,w_1,w_2))\n",
        "\n",
        "fig = plt.figure(figsize=(4,4))\n",
        "plt.plot(s_l[Iris_Setosa],p_l[Iris_Setosa],'o', c='black', label='Iris Setosa')\n",
        "plt.plot(s_l[Otra_clase],p_l[Otra_clase],'o', c='red', label='Otra Clase')\n",
        "plt.plot(np.sort(s_l),y(np.sort(s_l)),'-', c='green',)\n",
        "plt.xlim(np.min(s_l),np.max(s_l))\n",
        "plt.ylim(np.min(p_l),np.max(p_l))\n",
        "plt.legend()\n",
        "plt.show()"
      ],
      "execution_count": 157,
      "outputs": [
        {
          "output_type": "stream",
          "text": [
            "Epoch [1/15], bias: -0.5, w1: -3.5, w2: -2.35\n",
            "Epoch [2/15], bias: 0.0, w1: -2.0, w2: -3.3000000000000003\n",
            "Epoch [3/15], bias: 0.5, w1: -0.5, w2: -4.250000000000001\n",
            "Epoch [4/15], bias: 0.5, w1: -0.8000000000000003, w2: -5.300000000000001\n",
            "Epoch [5/15], bias: 1.0, w1: 1.7499999999999996, w2: -4.6000000000000005\n",
            "Epoch [6/15], bias: 1.0, w1: 1.7499999999999996, w2: -4.6000000000000005\n",
            "Epoch [7/15], bias: 1.0, w1: 1.7499999999999996, w2: -4.6000000000000005\n",
            "Epoch [8/15], bias: 1.0, w1: 1.7499999999999996, w2: -4.6000000000000005\n",
            "Epoch [9/15], bias: 1.0, w1: 1.7499999999999996, w2: -4.6000000000000005\n",
            "Epoch [10/15], bias: 1.0, w1: 1.7499999999999996, w2: -4.6000000000000005\n",
            "Epoch [11/15], bias: 1.0, w1: 1.7499999999999996, w2: -4.6000000000000005\n",
            "Epoch [12/15], bias: 1.0, w1: 1.7499999999999996, w2: -4.6000000000000005\n",
            "Epoch [13/15], bias: 1.0, w1: 1.7499999999999996, w2: -4.6000000000000005\n",
            "Epoch [14/15], bias: 1.0, w1: 1.7499999999999996, w2: -4.6000000000000005\n",
            "Epoch [15/15], bias: 1.0, w1: 1.7499999999999996, w2: -4.6000000000000005\n"
          ],
          "name": "stdout"
        },
        {
          "output_type": "display_data",
          "data": {
            "image/png": "[encoded data removed]",
            "text/plain": [
              "<Figure size 288x288 with 1 Axes>"
            ]
          },
          "metadata": {
            "tags": [],
            "needs_background": "light"
          }
        }
      ]
    },
    {
      "cell_type": "code",
      "metadata": {
        "colab": {
          "base_uri": "https://localhost:8080/",
          "height": 402
        },
        "id": "vExtQ46iJrJu",
        "outputId": "0ca8f937-6056-43f2-e867-ea05d8a57bf3"
      },
      "source": [
        "X=data[keys]\n",
        "\n",
        "fig = plt.figure(figsize=(7,5))\n",
        "plt.hist(Y)\n",
        "plt.ylabel('Counts')\n",
        "plt.xlabel('class')\n",
        "plt.show()\n",
        "\n",
        "Y.value_counts()"
      ],
      "execution_count": 158,
      "outputs": [
        {
          "output_type": "display_data",
          "data": {
            "image/png": "[encoded data removed]",
            "text/plain": [
              "<Figure size 504x360 with 1 Axes>"
            ]
          },
          "metadata": {
            "tags": [],
            "needs_background": "light"
          }
        },
        {
          "output_type": "execute_result",
          "data": {
            "text/plain": [
              "Iris-versicolor    50\n",
              "Iris-setosa        50\n",
              "Iris-virginica     50\n",
              "Name: class, dtype: int64"
            ]
          },
          "metadata": {
            "tags": []
          },
          "execution_count": 158
        }
      ]
    },
    {
      "cell_type": "code",
      "metadata": {
        "colab": {
          "base_uri": "https://localhost:8080/",
          "height": 204
        },
        "id": "dJP9GhduRFMI",
        "outputId": "38de338f-569f-4052-bfe6-363381521fb2"
      },
      "source": [
        "from sklearn.preprocessing import OrdinalEncoder\n",
        "\n",
        "# Creamos el codificador indicandole el orden de la variables\n",
        "encoder = OrdinalEncoder(categories=[['Iris-setosa','Iris-versicolor', \n",
        "                                      'Iris-virginica']])\n",
        "\n",
        "# Ajustamos el codificador con la variable education y la transformamos\n",
        "encoder.fit(data[['class']])\n",
        "data['class-encoded'] = encoder.transform(data[['class']])\n",
        "\n",
        "\n",
        "# Iris-setosa        ==> 0.\n",
        "# Iris-versicolor  ==> 1.\n",
        "# Iris-virginica     == 2.\n",
        "\n",
        "data.head()\n"
      ],
      "execution_count": 174,
      "outputs": [
        {
          "output_type": "execute_result",
          "data": {
            "text/html": [
              "<div>\n",
              "<style scoped>\n",
              "    .dataframe tbody tr th:only-of-type {\n",
              "        vertical-align: middle;\n",
              "    }\n",
              "\n",
              "    .dataframe tbody tr th {\n",
              "        vertical-align: top;\n",
              "    }\n",
              "\n",
              "    .dataframe thead th {\n",
              "        text-align: right;\n",
              "    }\n",
              "</style>\n",
              "<table border=\"1\" class=\"dataframe\">\n",
              "  <thead>\n",
              "    <tr style=\"text-align: right;\">\n",
              "      <th></th>\n",
              "      <th>sepal_length</th>\n",
              "      <th>sepal_width</th>\n",
              "      <th>petal_length</th>\n",
              "      <th>petal_width</th>\n",
              "      <th>class</th>\n",
              "      <th>class-encoded</th>\n",
              "    </tr>\n",
              "  </thead>\n",
              "  <tbody>\n",
              "    <tr>\n",
              "      <th>0</th>\n",
              "      <td>5.1</td>\n",
              "      <td>3.5</td>\n",
              "      <td>1.4</td>\n",
              "      <td>0.2</td>\n",
              "      <td>Iris-setosa</td>\n",
              "      <td>0.0</td>\n",
              "    </tr>\n",
              "    <tr>\n",
              "      <th>1</th>\n",
              "      <td>4.9</td>\n",
              "      <td>3.0</td>\n",
              "      <td>1.4</td>\n",
              "      <td>0.2</td>\n",
              "      <td>Iris-setosa</td>\n",
              "      <td>0.0</td>\n",
              "    </tr>\n",
              "    <tr>\n",
              "      <th>2</th>\n",
              "      <td>4.7</td>\n",
              "      <td>3.2</td>\n",
              "      <td>1.3</td>\n",
              "      <td>0.2</td>\n",
              "      <td>Iris-setosa</td>\n",
              "      <td>0.0</td>\n",
              "    </tr>\n",
              "    <tr>\n",
              "      <th>3</th>\n",
              "      <td>4.6</td>\n",
              "      <td>3.1</td>\n",
              "      <td>1.5</td>\n",
              "      <td>0.2</td>\n",
              "      <td>Iris-setosa</td>\n",
              "      <td>0.0</td>\n",
              "    </tr>\n",
              "    <tr>\n",
              "      <th>4</th>\n",
              "      <td>5.0</td>\n",
              "      <td>3.6</td>\n",
              "      <td>1.4</td>\n",
              "      <td>0.2</td>\n",
              "      <td>Iris-setosa</td>\n",
              "      <td>0.0</td>\n",
              "    </tr>\n",
              "  </tbody>\n",
              "</table>\n",
              "</div>"
            ],
            "text/plain": [
              "   sepal_length  sepal_width  ...        class  class-encoded\n",
              "0           5.1          3.5  ...  Iris-setosa            0.0\n",
              "1           4.9          3.0  ...  Iris-setosa            0.0\n",
              "2           4.7          3.2  ...  Iris-setosa            0.0\n",
              "3           4.6          3.1  ...  Iris-setosa            0.0\n",
              "4           5.0          3.6  ...  Iris-setosa            0.0\n",
              "\n",
              "[5 rows x 6 columns]"
            ]
          },
          "metadata": {
            "tags": []
          },
          "execution_count": 174
        }
      ]
    },
    {
      "cell_type": "code",
      "metadata": {
        "id": "r_8uF9lOUoCI"
      },
      "source": [
        "#--- Dividimos nuestro dataset en Train/Test\n",
        "\n",
        "from sklearn.model_selection import train_test_split\n",
        "\n",
        "Y_code=data['class-encoded']\n",
        "\n",
        "X_train, X_test, Y_train, Y_test = train_test_split(X,Y_code)\n",
        "\n"
      ],
      "execution_count": 160,
      "outputs": []
    },
    {
      "cell_type": "code",
      "metadata": {
        "colab": {
          "base_uri": "https://localhost:8080/"
        },
        "id": "T_gHvlJtU-eM",
        "outputId": "f21aca4a-ceda-4b84-ade7-bcb6eb28c585"
      },
      "source": [
        "#--- Cargamos MLPCLassifier para buscar un modelo\n",
        "\n",
        "from sklearn.neural_network import MLPClassifier\n",
        "\n",
        "model = MLPClassifier(activation='relu',  hidden_layer_sizes=(4, 4), solver='adam', learning_rate_init=0.1, random_state=0)\n",
        "model"
      ],
      "execution_count": 161,
      "outputs": [
        {
          "output_type": "execute_result",
          "data": {
            "text/plain": [
              "MLPClassifier(activation='relu', alpha=0.0001, batch_size='auto', beta_1=0.9,\n",
              "              beta_2=0.999, early_stopping=False, epsilon=1e-08,\n",
              "              hidden_layer_sizes=(4, 4), learning_rate='constant',\n",
              "              learning_rate_init=0.1, max_fun=15000, max_iter=200, momentum=0.9,\n",
              "              n_iter_no_change=10, nesterovs_momentum=True, power_t=0.5,\n",
              "              random_state=0, shuffle=True, solver='adam', tol=0.0001,\n",
              "              validation_fraction=0.1, verbose=False, warm_start=False)"
            ]
          },
          "metadata": {
            "tags": []
          },
          "execution_count": 161
        }
      ]
    },
    {
      "cell_type": "code",
      "metadata": {
        "colab": {
          "base_uri": "https://localhost:8080/"
        },
        "id": "X9WaDA1nVMZZ",
        "outputId": "9f4e8a16-d509-47fc-fcd6-ce95d62d2c5a"
      },
      "source": [
        "#--- Entrenamos el modelo y realizamos una predicción\n",
        "\n",
        "model.fit(X_train,Y_train)\n",
        "Y_pred = model.predict(X_test)"
      ],
      "execution_count": 162,
      "outputs": [
        {
          "output_type": "stream",
          "text": [
            "/usr/local/lib/python3.7/dist-packages/sklearn/neural_network/_multilayer_perceptron.py:571: ConvergenceWarning: Stochastic Optimizer: Maximum iterations (200) reached and the optimization hasn't converged yet.\n",
            "  % self.max_iter, ConvergenceWarning)\n"
          ],
          "name": "stderr"
        }
      ]
    },
    {
      "cell_type": "code",
      "metadata": {
        "colab": {
          "base_uri": "https://localhost:8080/"
        },
        "id": "MGGCY0j7VTfi",
        "outputId": "d782db82-432f-4366-b1fb-5a3645237f35"
      },
      "source": [
        "Y_pred"
      ],
      "execution_count": 163,
      "outputs": [
        {
          "output_type": "execute_result",
          "data": {
            "text/plain": [
              "array([0., 1., 0., 0., 2., 2., 2., 1., 1., 2., 1., 1., 0., 0., 0., 2., 2.,\n",
              "       2., 1., 0., 1., 2., 2., 0., 0., 0., 0., 2., 2., 1., 1., 2., 2., 0.,\n",
              "       1., 1., 2., 1.])"
            ]
          },
          "metadata": {
            "tags": []
          },
          "execution_count": 163
        }
      ]
    },
    {
      "cell_type": "code",
      "metadata": {
        "colab": {
          "base_uri": "https://localhost:8080/"
        },
        "id": "Lgpl_tSaVWPQ",
        "outputId": "505b50aa-20a1-4996-d4b4-01a86f5622aa"
      },
      "source": [
        "from sklearn.metrics import accuracy_score\n",
        "\n",
        "accuracy_score(Y_pred,Y_test)"
      ],
      "execution_count": 164,
      "outputs": [
        {
          "output_type": "execute_result",
          "data": {
            "text/plain": [
              "0.9736842105263158"
            ]
          },
          "metadata": {
            "tags": []
          },
          "execution_count": 164
        }
      ]
    },
    {
      "cell_type": "code",
      "metadata": {
        "colab": {
          "base_uri": "https://localhost:8080/"
        },
        "id": "yiiq_irnVsm6",
        "outputId": "f6170b71-3cb8-481b-d6c1-018e6c894925"
      },
      "source": [
        "# ahora con 3 capas\n",
        "\n",
        "#--- Cargamos MLPCLassifier para buscar un modelo\n",
        "\n",
        "from sklearn.neural_network import MLPClassifier\n",
        "\n",
        "model_3 = MLPClassifier(activation='relu',  hidden_layer_sizes=(4, 4, 4), solver='adam', learning_rate_init=0.1, random_state=1)\n",
        "model_3"
      ],
      "execution_count": 165,
      "outputs": [
        {
          "output_type": "execute_result",
          "data": {
            "text/plain": [
              "MLPClassifier(activation='relu', alpha=0.0001, batch_size='auto', beta_1=0.9,\n",
              "              beta_2=0.999, early_stopping=False, epsilon=1e-08,\n",
              "              hidden_layer_sizes=(4, 4, 4), learning_rate='constant',\n",
              "              learning_rate_init=0.1, max_fun=15000, max_iter=200, momentum=0.9,\n",
              "              n_iter_no_change=10, nesterovs_momentum=True, power_t=0.5,\n",
              "              random_state=1, shuffle=True, solver='adam', tol=0.0001,\n",
              "              validation_fraction=0.1, verbose=False, warm_start=False)"
            ]
          },
          "metadata": {
            "tags": []
          },
          "execution_count": 165
        }
      ]
    },
    {
      "cell_type": "code",
      "metadata": {
        "colab": {
          "base_uri": "https://localhost:8080/"
        },
        "id": "KenBJ3YsWpFT",
        "outputId": "b2dcdb86-d7de-438b-bc24-df3e7bb1760f"
      },
      "source": [
        "#--- Entrenamos el modelo y realizamos una predicción\n",
        "\n",
        "model_3.fit(X_train,Y_train)\n",
        "Y_pred_3 = model_3.predict(X_test)"
      ],
      "execution_count": 166,
      "outputs": [
        {
          "output_type": "stream",
          "text": [
            "/usr/local/lib/python3.7/dist-packages/sklearn/neural_network/_multilayer_perceptron.py:571: ConvergenceWarning: Stochastic Optimizer: Maximum iterations (200) reached and the optimization hasn't converged yet.\n",
            "  % self.max_iter, ConvergenceWarning)\n"
          ],
          "name": "stderr"
        }
      ]
    },
    {
      "cell_type": "code",
      "metadata": {
        "colab": {
          "base_uri": "https://localhost:8080/"
        },
        "id": "Y2NKyzPgWs7v",
        "outputId": "56c112a9-e17d-4e40-c13a-a58d5e5e6b7c"
      },
      "source": [
        "Y_pred_3"
      ],
      "execution_count": 167,
      "outputs": [
        {
          "output_type": "execute_result",
          "data": {
            "text/plain": [
              "array([0., 1., 0., 0., 2., 2., 2., 1., 1., 2., 1., 1., 0., 0., 0., 2., 2.,\n",
              "       2., 1., 0., 1., 2., 2., 0., 0., 0., 0., 2., 2., 1., 1., 2., 2., 0.,\n",
              "       1., 1., 2., 1.])"
            ]
          },
          "metadata": {
            "tags": []
          },
          "execution_count": 167
        }
      ]
    },
    {
      "cell_type": "code",
      "metadata": {
        "colab": {
          "base_uri": "https://localhost:8080/"
        },
        "id": "EDI36co-Wy6_",
        "outputId": "35784c01-cc9a-47c5-def1-c4e99c130e77"
      },
      "source": [
        "from sklearn.metrics import accuracy_score\n",
        "\n",
        "accuracy_score(Y_pred_3,Y_test)"
      ],
      "execution_count": 168,
      "outputs": [
        {
          "output_type": "execute_result",
          "data": {
            "text/plain": [
              "0.9736842105263158"
            ]
          },
          "metadata": {
            "tags": []
          },
          "execution_count": 168
        }
      ]
    },
    {
      "cell_type": "code",
      "metadata": {
        "id": "2aJj7StMW1cw"
      },
      "source": [
        ""
      ],
      "execution_count": null,
      "outputs": []
    }
  ]
}